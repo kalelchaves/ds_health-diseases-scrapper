{
 "cells": [
  {
   "cell_type": "code",
   "execution_count": null,
   "metadata": {},
   "outputs": [
    {
     "name": "stdout",
     "output_type": "stream",
     "text": [
      "Requirement already satisfied: flask in d:\\users\\smide\\anaconda3\\lib\\site-packages (1.1.1)\n",
      "Requirement already satisfied: click>=5.1 in d:\\users\\smide\\anaconda3\\lib\\site-packages (from flask) (7.0)\n",
      "Requirement already satisfied: itsdangerous>=0.24 in d:\\users\\smide\\anaconda3\\lib\\site-packages (from flask) (1.1.0)\n",
      "Requirement already satisfied: Werkzeug>=0.15 in d:\\users\\smide\\anaconda3\\lib\\site-packages (from flask) (0.16.0)\n",
      "Requirement already satisfied: Jinja2>=2.10.1 in d:\\users\\smide\\anaconda3\\lib\\site-packages (from flask) (2.10.3)\n",
      "Requirement already satisfied: MarkupSafe>=0.23 in d:\\users\\smide\\anaconda3\\lib\\site-packages (from Jinja2>=2.10.1->flask) (1.1.1)\n",
      " * Serving Flask app \"__main__\" (lazy loading)\n",
      " * Environment: production\n",
      "   WARNING: This is a development server. Do not use it in a production deployment.\n",
      "   Use a production WSGI server instead.\n",
      " * Debug mode: off\n"
     ]
    },
    {
     "name": "stderr",
     "output_type": "stream",
     "text": [
      " * Running on http://0.0.0.0:8080/ (Press CTRL+C to quit)\n",
      "127.0.0.1 - - [14/Mar/2020 14:17:22] \"GET /doencas HTTP/1.1\" 200 -\n"
     ]
    }
   ],
   "source": [
    "!pip install flask\n",
    "from flask import Flask, request, jsonify\n",
    "from flask_restful import Resource, Api\n",
    "from sqlalchemy import create_engine\n",
    "from json import dumps\n",
    "\n",
    "db_connect = create_engine('sqlite:///healthcare.db')\n",
    "\n",
    "app = Flask(__name__)\n",
    "api = Api(app)\n",
    "\n",
    "def getApp():\n",
    "    return app\n",
    "\n",
    "class Doencas(Resource):\n",
    "    def get(self):\n",
    "        conn = db_connect.connect()\n",
    "        query = conn.execute(\"select * from doencas\")\n",
    "        result = [dict(zip(tuple(query.keys()), i)) for i in query.cursor]\n",
    "        return jsonify(result)\n",
    "\n",
    "class UserById(Resource):    \n",
    "\n",
    "    def get(self, id):\n",
    "        conn = db_connect.connect()\n",
    "        query = conn.execute(\"select * from doencas where id =%d \" % int(id))\n",
    "        result = [dict(zip(tuple(query.keys()), i)) for i in query.cursor]\n",
    "        return jsonify(result)\n",
    "\n",
    "api.add_resource(Doencas, '/doencas') \n",
    "#api.add_resource(UserById, '/doencas/<id>') \n",
    "\n",
    "if __name__ == '__main__':\n",
    "    app.run(host='0.0.0.0', port=8080)"
   ]
  },
  {
   "cell_type": "code",
   "execution_count": null,
   "metadata": {},
   "outputs": [],
   "source": []
  }
 ],
 "metadata": {
  "kernelspec": {
   "display_name": "Python 3",
   "language": "python",
   "name": "python3"
  },
  "language_info": {
   "codemirror_mode": {
    "name": "ipython",
    "version": 3
   },
   "file_extension": ".py",
   "mimetype": "text/x-python",
   "name": "python",
   "nbconvert_exporter": "python",
   "pygments_lexer": "ipython3",
   "version": "3.7.4"
  }
 },
 "nbformat": 4,
 "nbformat_minor": 4
}
